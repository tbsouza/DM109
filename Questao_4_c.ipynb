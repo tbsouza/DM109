{
 "cells": [
  {
   "cell_type": "code",
   "execution_count": 18,
   "metadata": {},
   "outputs": [],
   "source": [
    "# Questão 4 - Exercicio c\n",
    "import random\n",
    "import pandas as pd\n",
    "import matplotlib.pyplot as plt\n",
    "from pandas.io.json import json_normalize"
   ]
  },
  {
   "cell_type": "code",
   "execution_count": 19,
   "metadata": {},
   "outputs": [
    {
     "data": {
      "text/html": [
       "<div>\n",
       "<style scoped>\n",
       "    .dataframe tbody tr th:only-of-type {\n",
       "        vertical-align: middle;\n",
       "    }\n",
       "\n",
       "    .dataframe tbody tr th {\n",
       "        vertical-align: top;\n",
       "    }\n",
       "\n",
       "    .dataframe thead th {\n",
       "        text-align: right;\n",
       "    }\n",
       "</style>\n",
       "<table border=\"1\" class=\"dataframe\">\n",
       "  <thead>\n",
       "    <tr style=\"text-align: right;\">\n",
       "      <th></th>\n",
       "      <th>Ax</th>\n",
       "      <th>Ay</th>\n",
       "      <th>Brake</th>\n",
       "      <th>Distance</th>\n",
       "      <th>Fuel</th>\n",
       "      <th>Gear</th>\n",
       "      <th>GearChange</th>\n",
       "      <th>LapTime</th>\n",
       "      <th>RPM</th>\n",
       "      <th>Speed</th>\n",
       "      <th>Steer</th>\n",
       "      <th>Throttle</th>\n",
       "      <th>Vaz</th>\n",
       "    </tr>\n",
       "  </thead>\n",
       "  <tbody>\n",
       "    <tr>\n",
       "      <th>0</th>\n",
       "      <td>1.206306</td>\n",
       "      <td>-2.110530</td>\n",
       "      <td>0.0</td>\n",
       "      <td>2032.569580</td>\n",
       "      <td>3.267910</td>\n",
       "      <td>1.0</td>\n",
       "      <td>1</td>\n",
       "      <td>0.118</td>\n",
       "      <td>959.171204</td>\n",
       "      <td>0.390457</td>\n",
       "      <td>0.050426</td>\n",
       "      <td>1.0</td>\n",
       "      <td>-0.022437</td>\n",
       "    </tr>\n",
       "    <tr>\n",
       "      <th>1</th>\n",
       "      <td>12.154963</td>\n",
       "      <td>0.105487</td>\n",
       "      <td>0.0</td>\n",
       "      <td>2032.590942</td>\n",
       "      <td>3.266519</td>\n",
       "      <td>1.0</td>\n",
       "      <td>0</td>\n",
       "      <td>0.158</td>\n",
       "      <td>958.583618</td>\n",
       "      <td>0.673555</td>\n",
       "      <td>0.048032</td>\n",
       "      <td>1.0</td>\n",
       "      <td>0.025324</td>\n",
       "    </tr>\n",
       "    <tr>\n",
       "      <th>2</th>\n",
       "      <td>2.643539</td>\n",
       "      <td>0.241803</td>\n",
       "      <td>0.0</td>\n",
       "      <td>2032.624512</td>\n",
       "      <td>3.265128</td>\n",
       "      <td>1.0</td>\n",
       "      <td>0</td>\n",
       "      <td>0.198</td>\n",
       "      <td>955.407898</td>\n",
       "      <td>0.965573</td>\n",
       "      <td>0.048352</td>\n",
       "      <td>1.0</td>\n",
       "      <td>0.009568</td>\n",
       "    </tr>\n",
       "    <tr>\n",
       "      <th>3</th>\n",
       "      <td>18.016840</td>\n",
       "      <td>-0.028772</td>\n",
       "      <td>0.0</td>\n",
       "      <td>2032.646606</td>\n",
       "      <td>3.263551</td>\n",
       "      <td>1.0</td>\n",
       "      <td>0</td>\n",
       "      <td>0.218</td>\n",
       "      <td>953.187988</td>\n",
       "      <td>1.361277</td>\n",
       "      <td>0.044572</td>\n",
       "      <td>1.0</td>\n",
       "      <td>0.010844</td>\n",
       "    </tr>\n",
       "    <tr>\n",
       "      <th>4</th>\n",
       "      <td>15.077779</td>\n",
       "      <td>0.025174</td>\n",
       "      <td>0.0</td>\n",
       "      <td>2032.880981</td>\n",
       "      <td>3.257737</td>\n",
       "      <td>1.0</td>\n",
       "      <td>0</td>\n",
       "      <td>0.340</td>\n",
       "      <td>895.900696</td>\n",
       "      <td>2.810179</td>\n",
       "      <td>0.041115</td>\n",
       "      <td>1.0</td>\n",
       "      <td>0.019784</td>\n",
       "    </tr>\n",
       "  </tbody>\n",
       "</table>\n",
       "</div>"
      ],
      "text/plain": [
       "          Ax        Ay  Brake     Distance      Fuel  Gear  GearChange  \\\n",
       "0   1.206306 -2.110530    0.0  2032.569580  3.267910   1.0           1   \n",
       "1  12.154963  0.105487    0.0  2032.590942  3.266519   1.0           0   \n",
       "2   2.643539  0.241803    0.0  2032.624512  3.265128   1.0           0   \n",
       "3  18.016840 -0.028772    0.0  2032.646606  3.263551   1.0           0   \n",
       "4  15.077779  0.025174    0.0  2032.880981  3.257737   1.0           0   \n",
       "\n",
       "   LapTime         RPM     Speed     Steer  Throttle       Vaz  \n",
       "0    0.118  959.171204  0.390457  0.050426       1.0 -0.022437  \n",
       "1    0.158  958.583618  0.673555  0.048032       1.0  0.025324  \n",
       "2    0.198  955.407898  0.965573  0.048352       1.0  0.009568  \n",
       "3    0.218  953.187988  1.361277  0.044572       1.0  0.010844  \n",
       "4    0.340  895.900696  2.810179  0.041115       1.0  0.019784  "
      ]
     },
     "execution_count": 19,
     "metadata": {},
     "output_type": "execute_result"
    }
   ],
   "source": [
    "#Informações de telemetria do carro 3\n",
    "df = pd.read_json('telemetry.json', lines=True)\n",
    "car3 = json_normalize( df[df['Car'] ==3 ]['telemetry'] )\n",
    "car3.head()"
   ]
  },
  {
   "cell_type": "code",
   "execution_count": 20,
   "metadata": {},
   "outputs": [
    {
     "data": {
      "text/plain": [
       "<matplotlib.axes._subplots.AxesSubplot at 0x188019a48d0>"
      ]
     },
     "execution_count": 20,
     "metadata": {},
     "output_type": "execute_result"
    },
    {
     "data": {
      "image/png": "[encoded data removed]",
      "text/plain": [
       "<Figure size 432x288 with 1 Axes>"
      ]
     },
     "metadata": {
      "needs_background": "light"
     },
     "output_type": "display_data"
    }
   ],
   "source": [
    "#Gráfico de Distância percorrida do Carro 3 em metros separado\n",
    "distance = car3['Distance']\n",
    "car3['Distance'].plot(kind='line', grid=True, y=['Distance'], color=\"pink\", linewidth=2)"
   ]
  },
  {
   "cell_type": "code",
   "execution_count": 21,
   "metadata": {},
   "outputs": [
    {
     "data": {
      "text/plain": [
       "<matplotlib.axes._subplots.AxesSubplot at 0x188018d58d0>"
      ]
     },
     "execution_count": 21,
     "metadata": {},
     "output_type": "execute_result"
    },
    {
     "data": {
      "image/png": "[encoded data removed]",
      "text/plain": [
       "<Figure size 432x288 with 1 Axes>"
      ]
     },
     "metadata": {
      "needs_background": "light"
     },
     "output_type": "display_data"
    }
   ],
   "source": [
    "#Gráfico de Combustível do Carro 3 separado\n",
    "fuel = car3['Fuel']\n",
    "car3['Fuel'].plot(kind='line', grid=True, y=['Fuel'], color=\"blue\")"
   ]
  },
  {
   "cell_type": "code",
   "execution_count": 23,
   "metadata": {},
   "outputs": [
    {
     "data": {
      "image/png": "[encoded data removed]",
      "text/plain": [
       "<Figure size 432x288 with 2 Axes>"
      ]
     },
     "metadata": {},
     "output_type": "display_data"
    }
   ],
   "source": [
    "# Reference: https://matplotlib.org/3.1.1/gallery/subplots_axes_and_figures/two_scales.html#sphx-glr-gallery-subplots-axes-and-figures-two-scales-py\n",
    "# Gráficos de Distância por Combustível sobrepostos do carro 3\n",
    "\n",
    "fig, ax1 = plt.subplots()\n",
    "color = 'tab:pink'\n",
    "\n",
    "# Gráfico Distância (eixo 1)\n",
    "ax1.set_xlabel('Time (s)')\n",
    "ax1.set_ylabel('Distance (m)', color=color)\n",
    "ax1.plot(distance, color=color, linewidth=2)\n",
    "ax1.tick_params(axis='y', labelcolor=color)\n",
    "\n",
    "ax2 = ax1.twinx()  # instantiate a second axes\n",
    "\n",
    "# Gráfico de Combustível (eixo 2)\n",
    "color = 'tab:blue'\n",
    "ax2.set_ylabel('Fuel', color=color)\n",
    "ax2.plot(fuel, color=color, linewidth=2)\n",
    "ax2.tick_params(axis='y', labelcolor=color)\n",
    "\n",
    "# Plot do gráfico\n",
    "fig.tight_layout()\n",
    "plt.show()"
   ]
  },
  {
   "cell_type": "code",
   "execution_count": 27,
   "metadata": {},
   "outputs": [],
   "source": [
    "# Explicação do gráfico:\n",
    "\n",
    "# Com este gráfico pode-se comprovar que, conforme a distância percorrida pelo carro aumenta,\n",
    "# a quantidade de combustível diminui.\n",
    "# O veículo começa a corrida com o tanque cheio e conforme vai correndo o quantidade de combustível vai\n",
    "# diminuindo. Percebe-se também que o veículo não foi reabastecido durante volta da corrida."
   ]
  }
 ],
 "metadata": {
  "kernelspec": {
   "display_name": "Python 3",
   "language": "python",
   "name": "python3"
  },
  "language_info": {
   "codemirror_mode": {
    "name": "ipython",
    "version": 3
   },
   "file_extension": ".py",
   "mimetype": "text/x-python",
   "name": "python",
   "nbconvert_exporter": "python",
   "pygments_lexer": "ipython3",
   "version": "3.7.3"
  }
 },
 "nbformat": 4,
 "nbformat_minor": 2
}
