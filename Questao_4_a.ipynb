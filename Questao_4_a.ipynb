{
 "cells": [
  {
   "cell_type": "code",
   "execution_count": 30,
   "metadata": {},
   "outputs": [],
   "source": [
    "# Questão 4 - Exercicio a\n",
    "import pandas as pd\n",
    "import json\n",
    "from pandas.io.json import json_normalize\n",
    "import matplotlib.pyplot as plt"
   ]
  },
  {
   "cell_type": "code",
   "execution_count": 32,
   "metadata": {},
   "outputs": [],
   "source": [
    "#Leitura do arquivo de telemetria\n",
    "df = pd.read_json('telemetry.json', lines=True)"
   ]
  },
  {
   "cell_type": "code",
   "execution_count": 34,
   "metadata": {},
   "outputs": [
    {
     "data": {
      "text/html": [
       "<div>\n",
       "<style scoped>\n",
       "    .dataframe tbody tr th:only-of-type {\n",
       "        vertical-align: middle;\n",
       "    }\n",
       "\n",
       "    .dataframe tbody tr th {\n",
       "        vertical-align: top;\n",
       "    }\n",
       "\n",
       "    .dataframe thead th {\n",
       "        text-align: right;\n",
       "    }\n",
       "</style>\n",
       "<table border=\"1\" class=\"dataframe\">\n",
       "  <thead>\n",
       "    <tr style=\"text-align: right;\">\n",
       "      <th></th>\n",
       "      <th>Ax</th>\n",
       "      <th>Ay</th>\n",
       "      <th>Brake</th>\n",
       "      <th>Distance</th>\n",
       "      <th>Fuel</th>\n",
       "      <th>Gear</th>\n",
       "      <th>GearChange</th>\n",
       "      <th>LapTime</th>\n",
       "      <th>RPM</th>\n",
       "      <th>Speed</th>\n",
       "      <th>Steer</th>\n",
       "      <th>Throttle</th>\n",
       "      <th>Vaz</th>\n",
       "    </tr>\n",
       "  </thead>\n",
       "  <tbody>\n",
       "    <tr>\n",
       "      <th>0</th>\n",
       "      <td>1.206306</td>\n",
       "      <td>-2.110530</td>\n",
       "      <td>0.0</td>\n",
       "      <td>2032.569580</td>\n",
       "      <td>3.267910</td>\n",
       "      <td>1.0</td>\n",
       "      <td>1</td>\n",
       "      <td>0.118</td>\n",
       "      <td>959.171204</td>\n",
       "      <td>0.390457</td>\n",
       "      <td>0.050426</td>\n",
       "      <td>1.0</td>\n",
       "      <td>-0.022437</td>\n",
       "    </tr>\n",
       "    <tr>\n",
       "      <th>1</th>\n",
       "      <td>12.154963</td>\n",
       "      <td>0.105487</td>\n",
       "      <td>0.0</td>\n",
       "      <td>2032.590942</td>\n",
       "      <td>3.266519</td>\n",
       "      <td>1.0</td>\n",
       "      <td>0</td>\n",
       "      <td>0.158</td>\n",
       "      <td>958.583618</td>\n",
       "      <td>0.673555</td>\n",
       "      <td>0.048032</td>\n",
       "      <td>1.0</td>\n",
       "      <td>0.025324</td>\n",
       "    </tr>\n",
       "    <tr>\n",
       "      <th>2</th>\n",
       "      <td>2.643539</td>\n",
       "      <td>0.241803</td>\n",
       "      <td>0.0</td>\n",
       "      <td>2032.624512</td>\n",
       "      <td>3.265128</td>\n",
       "      <td>1.0</td>\n",
       "      <td>0</td>\n",
       "      <td>0.198</td>\n",
       "      <td>955.407898</td>\n",
       "      <td>0.965573</td>\n",
       "      <td>0.048352</td>\n",
       "      <td>1.0</td>\n",
       "      <td>0.009568</td>\n",
       "    </tr>\n",
       "    <tr>\n",
       "      <th>3</th>\n",
       "      <td>18.016840</td>\n",
       "      <td>-0.028772</td>\n",
       "      <td>0.0</td>\n",
       "      <td>2032.646606</td>\n",
       "      <td>3.263551</td>\n",
       "      <td>1.0</td>\n",
       "      <td>0</td>\n",
       "      <td>0.218</td>\n",
       "      <td>953.187988</td>\n",
       "      <td>1.361277</td>\n",
       "      <td>0.044572</td>\n",
       "      <td>1.0</td>\n",
       "      <td>0.010844</td>\n",
       "    </tr>\n",
       "    <tr>\n",
       "      <th>4</th>\n",
       "      <td>15.077779</td>\n",
       "      <td>0.025174</td>\n",
       "      <td>0.0</td>\n",
       "      <td>2032.880981</td>\n",
       "      <td>3.257737</td>\n",
       "      <td>1.0</td>\n",
       "      <td>0</td>\n",
       "      <td>0.340</td>\n",
       "      <td>895.900696</td>\n",
       "      <td>2.810179</td>\n",
       "      <td>0.041115</td>\n",
       "      <td>1.0</td>\n",
       "      <td>0.019784</td>\n",
       "    </tr>\n",
       "  </tbody>\n",
       "</table>\n",
       "</div>"
      ],
      "text/plain": [
       "          Ax        Ay  Brake     Distance      Fuel  Gear  GearChange  \\\n",
       "0   1.206306 -2.110530    0.0  2032.569580  3.267910   1.0           1   \n",
       "1  12.154963  0.105487    0.0  2032.590942  3.266519   1.0           0   \n",
       "2   2.643539  0.241803    0.0  2032.624512  3.265128   1.0           0   \n",
       "3  18.016840 -0.028772    0.0  2032.646606  3.263551   1.0           0   \n",
       "4  15.077779  0.025174    0.0  2032.880981  3.257737   1.0           0   \n",
       "\n",
       "   LapTime         RPM     Speed     Steer  Throttle       Vaz  \n",
       "0    0.118  959.171204  0.390457  0.050426       1.0 -0.022437  \n",
       "1    0.158  958.583618  0.673555  0.048032       1.0  0.025324  \n",
       "2    0.198  955.407898  0.965573  0.048352       1.0  0.009568  \n",
       "3    0.218  953.187988  1.361277  0.044572       1.0  0.010844  \n",
       "4    0.340  895.900696  2.810179  0.041115       1.0  0.019784  "
      ]
     },
     "execution_count": 34,
     "metadata": {},
     "output_type": "execute_result"
    }
   ],
   "source": [
    "#DataFrame com informações do carro 3\n",
    "car3 =  json_normalize( df[df['Car']==3]['telemetry'] )\n",
    "car3.head()"
   ]
  },
  {
   "cell_type": "code",
   "execution_count": 35,
   "metadata": {},
   "outputs": [
    {
     "data": {
      "text/html": [
       "<div>\n",
       "<style scoped>\n",
       "    .dataframe tbody tr th:only-of-type {\n",
       "        vertical-align: middle;\n",
       "    }\n",
       "\n",
       "    .dataframe tbody tr th {\n",
       "        vertical-align: top;\n",
       "    }\n",
       "\n",
       "    .dataframe thead th {\n",
       "        text-align: right;\n",
       "    }\n",
       "</style>\n",
       "<table border=\"1\" class=\"dataframe\">\n",
       "  <thead>\n",
       "    <tr style=\"text-align: right;\">\n",
       "      <th></th>\n",
       "      <th>Ax</th>\n",
       "      <th>Ay</th>\n",
       "      <th>Brake</th>\n",
       "      <th>Distance</th>\n",
       "      <th>Fuel</th>\n",
       "      <th>Gear</th>\n",
       "      <th>GearChange</th>\n",
       "      <th>LapTime</th>\n",
       "      <th>RPM</th>\n",
       "      <th>Speed</th>\n",
       "      <th>Steer</th>\n",
       "      <th>Throttle</th>\n",
       "      <th>Vaz</th>\n",
       "    </tr>\n",
       "  </thead>\n",
       "  <tbody>\n",
       "    <tr>\n",
       "      <th>0</th>\n",
       "      <td>12.819563</td>\n",
       "      <td>3.052840</td>\n",
       "      <td>0.0</td>\n",
       "      <td>2022.584595</td>\n",
       "      <td>3.265133</td>\n",
       "      <td>1.0</td>\n",
       "      <td>1</td>\n",
       "      <td>0.118</td>\n",
       "      <td>887.167969</td>\n",
       "      <td>0.728930</td>\n",
       "      <td>0.991210</td>\n",
       "      <td>1.000000</td>\n",
       "      <td>0.077726</td>\n",
       "    </tr>\n",
       "    <tr>\n",
       "      <th>1</th>\n",
       "      <td>13.384207</td>\n",
       "      <td>2.539237</td>\n",
       "      <td>0.0</td>\n",
       "      <td>2022.622925</td>\n",
       "      <td>3.263205</td>\n",
       "      <td>1.0</td>\n",
       "      <td>0</td>\n",
       "      <td>0.158</td>\n",
       "      <td>873.773865</td>\n",
       "      <td>1.302290</td>\n",
       "      <td>0.984520</td>\n",
       "      <td>1.000000</td>\n",
       "      <td>0.159243</td>\n",
       "    </tr>\n",
       "    <tr>\n",
       "      <th>2</th>\n",
       "      <td>9.214412</td>\n",
       "      <td>0.149583</td>\n",
       "      <td>0.0</td>\n",
       "      <td>2022.682129</td>\n",
       "      <td>3.261459</td>\n",
       "      <td>1.0</td>\n",
       "      <td>0</td>\n",
       "      <td>0.198</td>\n",
       "      <td>850.119995</td>\n",
       "      <td>1.824628</td>\n",
       "      <td>0.978450</td>\n",
       "      <td>1.000000</td>\n",
       "      <td>0.230753</td>\n",
       "    </tr>\n",
       "    <tr>\n",
       "      <th>3</th>\n",
       "      <td>13.108313</td>\n",
       "      <td>1.658825</td>\n",
       "      <td>0.0</td>\n",
       "      <td>2022.719727</td>\n",
       "      <td>3.259809</td>\n",
       "      <td>1.0</td>\n",
       "      <td>0</td>\n",
       "      <td>0.218</td>\n",
       "      <td>829.110413</td>\n",
       "      <td>2.342594</td>\n",
       "      <td>0.976337</td>\n",
       "      <td>1.000000</td>\n",
       "      <td>0.298004</td>\n",
       "    </tr>\n",
       "    <tr>\n",
       "      <th>4</th>\n",
       "      <td>15.793007</td>\n",
       "      <td>-2.630955</td>\n",
       "      <td>0.0</td>\n",
       "      <td>2023.068970</td>\n",
       "      <td>3.254576</td>\n",
       "      <td>1.0</td>\n",
       "      <td>0</td>\n",
       "      <td>0.340</td>\n",
       "      <td>769.103394</td>\n",
       "      <td>4.151351</td>\n",
       "      <td>0.168317</td>\n",
       "      <td>0.896483</td>\n",
       "      <td>0.479398</td>\n",
       "    </tr>\n",
       "  </tbody>\n",
       "</table>\n",
       "</div>"
      ],
      "text/plain": [
       "          Ax        Ay  Brake     Distance      Fuel  Gear  GearChange  \\\n",
       "0  12.819563  3.052840    0.0  2022.584595  3.265133   1.0           1   \n",
       "1  13.384207  2.539237    0.0  2022.622925  3.263205   1.0           0   \n",
       "2   9.214412  0.149583    0.0  2022.682129  3.261459   1.0           0   \n",
       "3  13.108313  1.658825    0.0  2022.719727  3.259809   1.0           0   \n",
       "4  15.793007 -2.630955    0.0  2023.068970  3.254576   1.0           0   \n",
       "\n",
       "   LapTime         RPM     Speed     Steer  Throttle       Vaz  \n",
       "0    0.118  887.167969  0.728930  0.991210  1.000000  0.077726  \n",
       "1    0.158  873.773865  1.302290  0.984520  1.000000  0.159243  \n",
       "2    0.198  850.119995  1.824628  0.978450  1.000000  0.230753  \n",
       "3    0.218  829.110413  2.342594  0.976337  1.000000  0.298004  \n",
       "4    0.340  769.103394  4.151351  0.168317  0.896483  0.479398  "
      ]
     },
     "execution_count": 35,
     "metadata": {},
     "output_type": "execute_result"
    }
   ],
   "source": [
    "#DataFrame com informações do carro 4\n",
    "car4 = json_normalize( df[df['Car']==4]['telemetry'] )\n",
    "car4.head()"
   ]
  },
  {
   "cell_type": "code",
   "execution_count": 71,
   "metadata": {},
   "outputs": [
    {
     "data": {
      "text/plain": [
       "<matplotlib.axes._subplots.AxesSubplot at 0x167a5628e10>"
      ]
     },
     "execution_count": 71,
     "metadata": {},
     "output_type": "execute_result"
    },
    {
     "data": {
      "image/png": "[encoded data removed]",
      "text/plain": [
       "<Figure size 432x288 with 1 Axes>"
      ]
     },
     "metadata": {
      "needs_background": "light"
     },
     "output_type": "display_data"
    }
   ],
   "source": [
    "#Gráfico de velocidade do Carro 3 em Km/h\n",
    "car3['Speed'] = car3['Speed'] * (35/9)\n",
    "car3['Speed'].plot(kind='line', grid=True, y=['Speed'], color=\"yellow\")"
   ]
  },
  {
   "cell_type": "code",
   "execution_count": 72,
   "metadata": {},
   "outputs": [
    {
     "data": {
      "text/plain": [
       "<matplotlib.axes._subplots.AxesSubplot at 0x167a5629ac8>"
      ]
     },
     "execution_count": 72,
     "metadata": {},
     "output_type": "execute_result"
    },
    {
     "data": {
      "image/png": "[encoded data removed]",
      "text/plain": [
       "<Figure size 432x288 with 1 Axes>"
      ]
     },
     "metadata": {
      "needs_background": "light"
     },
     "output_type": "display_data"
    }
   ],
   "source": [
    "#Gráfico de velocidade do Carro 4 em Km/h\n",
    "car4['Speed'] = car4['Speed']  * (35/9)\n",
    "car4['Speed'].plot(kind='line', grid=True, y=['Speed'], color=\"red\")"
   ]
  },
  {
   "cell_type": "code",
   "execution_count": 73,
   "metadata": {
    "scrolled": true
   },
   "outputs": [
    {
     "data": {
      "text/plain": [
       "Text(0, 0.5, 'Speed (Km/h)')"
      ]
     },
     "execution_count": 73,
     "metadata": {},
     "output_type": "execute_result"
    },
    {
     "data": {
      "image/png": "[encoded data removed]",
      "text/plain": [
       "<Figure size 432x288 with 1 Axes>"
      ]
     },
     "metadata": {
      "needs_background": "light"
     },
     "output_type": "display_data"
    }
   ],
   "source": [
    "# Grafico comparando velocidade do carro 3 e 4\n",
    "plt.plot(car3['Speed'], color='yellow')\n",
    "plt.plot(car4['Speed'], color='red')\n",
    "plt.xlabel('Time (s)')\n",
    "plt.ylabel('Speed (Km/h)')"
   ]
  }
 ],
 "metadata": {
  "kernelspec": {
   "display_name": "Python 3",
   "language": "python",
   "name": "python3"
  },
  "language_info": {
   "codemirror_mode": {
    "name": "ipython",
    "version": 3
   },
   "file_extension": ".py",
   "mimetype": "text/x-python",
   "name": "python",
   "nbconvert_exporter": "python",
   "pygments_lexer": "ipython3",
   "version": "3.7.3"
  }
 },
 "nbformat": 4,
 "nbformat_minor": 2
}
